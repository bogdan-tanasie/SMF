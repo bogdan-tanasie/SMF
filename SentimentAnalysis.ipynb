{
 "cells": [
  {
   "cell_type": "code",
   "execution_count": 2,
   "metadata": {},
   "outputs": [],
   "source": [
    "import pandas as pd\n",
    "import numpy as np\n",
    "import nltk\n",
    "import matplotlib.pyplot as plt\n",
    "import seaborn\n",
    "\n",
    "from nltk.sentiment.vader import SentimentIntensityAnalyzer\n",
    "from pprint import pprint\n",
    "from IPython import display\n",
    "from datetime import datetime"
   ]
  },
  {
   "cell_type": "code",
   "execution_count": 3,
   "metadata": {},
   "outputs": [],
   "source": [
    "sentiment_df = pd.read_csv('./data/uber_df.csv')"
   ]
  },
  {
   "cell_type": "code",
   "execution_count": 4,
   "metadata": {
    "scrolled": true
   },
   "outputs": [
    {
     "data": {
      "text/html": [
       "<div>\n",
       "<style scoped>\n",
       "    .dataframe tbody tr th:only-of-type {\n",
       "        vertical-align: middle;\n",
       "    }\n",
       "\n",
       "    .dataframe tbody tr th {\n",
       "        vertical-align: top;\n",
       "    }\n",
       "\n",
       "    .dataframe thead th {\n",
       "        text-align: right;\n",
       "    }\n",
       "</style>\n",
       "<table border=\"1\" class=\"dataframe\">\n",
       "  <thead>\n",
       "    <tr style=\"text-align: right;\">\n",
       "      <th></th>\n",
       "      <th>Unnamed: 0</th>\n",
       "      <th>source</th>\n",
       "      <th>source_id</th>\n",
       "      <th>target</th>\n",
       "      <th>target_id</th>\n",
       "      <th>type_of_content</th>\n",
       "      <th>created_at</th>\n",
       "      <th>all_data</th>\n",
       "      <th>text</th>\n",
       "    </tr>\n",
       "  </thead>\n",
       "  <tbody>\n",
       "    <tr>\n",
       "      <th>0</th>\n",
       "      <td>0</td>\n",
       "      <td>Uber_Support</td>\n",
       "      <td>2815754953</td>\n",
       "      <td>wordofbrandon</td>\n",
       "      <td>2566081240</td>\n",
       "      <td>Reply</td>\n",
       "      <td>2019-08-31 10:53:53</td>\n",
       "      <td>{'created_at': 'Sat Aug 31 10:53:53 +0000 2019...</td>\n",
       "      <td>@wordofbrandon Thanks for bringing this to our...</td>\n",
       "    </tr>\n",
       "    <tr>\n",
       "      <th>1</th>\n",
       "      <td>2</td>\n",
       "      <td>Uber_Support</td>\n",
       "      <td>2815754953</td>\n",
       "      <td>CapeVgirl</td>\n",
       "      <td>719534538</td>\n",
       "      <td>Reply</td>\n",
       "      <td>2019-10-01 07:45:30</td>\n",
       "      <td>{'created_at': 'Tue Oct 01 07:45:30 +0000 2019...</td>\n",
       "      <td>@CapeVgirl Here to help. We suggest restarting...</td>\n",
       "    </tr>\n",
       "    <tr>\n",
       "      <th>2</th>\n",
       "      <td>4</td>\n",
       "      <td>SatishInnov8</td>\n",
       "      <td>722043526461145088</td>\n",
       "      <td>Uber_Support</td>\n",
       "      <td>2815754953</td>\n",
       "      <td>Reply</td>\n",
       "      <td>2019-12-09 17:11:51</td>\n",
       "      <td>{'created_at': 'Mon Dec 09 17:11:51 +0000 2019...</td>\n",
       "      <td>@Uber_Support \\n1/n\\nI wish to respectfully st...</td>\n",
       "    </tr>\n",
       "    <tr>\n",
       "      <th>3</th>\n",
       "      <td>5</td>\n",
       "      <td>Uber_Support</td>\n",
       "      <td>2815754953</td>\n",
       "      <td>realchetty</td>\n",
       "      <td>28766827</td>\n",
       "      <td>Reply</td>\n",
       "      <td>2019-12-20 12:02:54</td>\n",
       "      <td>{'created_at': 'Fri Dec 20 12:02:54 +0000 2019...</td>\n",
       "      <td>@realchetty We definitely want to ensure that ...</td>\n",
       "    </tr>\n",
       "    <tr>\n",
       "      <th>4</th>\n",
       "      <td>6</td>\n",
       "      <td>Uber_Support</td>\n",
       "      <td>2815754953</td>\n",
       "      <td>getfitwithgiddy</td>\n",
       "      <td>340722032</td>\n",
       "      <td>Reply</td>\n",
       "      <td>2019-12-22 11:25:56</td>\n",
       "      <td>{'created_at': 'Sun Dec 22 11:25:56 +0000 2019...</td>\n",
       "      <td>@getfitwithgiddy We definitely want to follow ...</td>\n",
       "    </tr>\n",
       "    <tr>\n",
       "      <th>...</th>\n",
       "      <td>...</td>\n",
       "      <td>...</td>\n",
       "      <td>...</td>\n",
       "      <td>...</td>\n",
       "      <td>...</td>\n",
       "      <td>...</td>\n",
       "      <td>...</td>\n",
       "      <td>...</td>\n",
       "      <td>...</td>\n",
       "    </tr>\n",
       "    <tr>\n",
       "      <th>4844</th>\n",
       "      <td>5563</td>\n",
       "      <td>ajb_neuk</td>\n",
       "      <td>1344742630731747328</td>\n",
       "      <td>Uber_Support</td>\n",
       "      <td>2815754953</td>\n",
       "      <td>Reply</td>\n",
       "      <td>2021-03-31 17:15:48</td>\n",
       "      <td>{'created_at': 'Wed Mar 31 17:15:48 +0000 2021...</td>\n",
       "      <td>@Uber_Support Yeah cause that link is about as...</td>\n",
       "    </tr>\n",
       "    <tr>\n",
       "      <th>4845</th>\n",
       "      <td>5564</td>\n",
       "      <td>AdrianMatache7</td>\n",
       "      <td>1376698104028794882</td>\n",
       "      <td>Uber_Support</td>\n",
       "      <td>2815754953</td>\n",
       "      <td>Reply</td>\n",
       "      <td>2021-03-31 17:18:34</td>\n",
       "      <td>{'created_at': 'Wed Mar 31 17:18:34 +0000 2021...</td>\n",
       "      <td>@Uber_Support Hi guys. How long takes for a ba...</td>\n",
       "    </tr>\n",
       "    <tr>\n",
       "      <th>4846</th>\n",
       "      <td>5565</td>\n",
       "      <td>k_sovs</td>\n",
       "      <td>1369169148580823040</td>\n",
       "      <td>Uber_Support</td>\n",
       "      <td>2815754953</td>\n",
       "      <td>Reply</td>\n",
       "      <td>2021-03-31 17:19:01</td>\n",
       "      <td>{'created_at': 'Wed Mar 31 17:19:01 +0000 2021...</td>\n",
       "      <td>@Uber_Support I filled out the form many times...</td>\n",
       "    </tr>\n",
       "    <tr>\n",
       "      <th>4847</th>\n",
       "      <td>5566</td>\n",
       "      <td>MY0U1SANA</td>\n",
       "      <td>918655647763324928</td>\n",
       "      <td>Uber_Support</td>\n",
       "      <td>2815754953</td>\n",
       "      <td>Reply</td>\n",
       "      <td>2021-03-31 17:22:01</td>\n",
       "      <td>{'created_at': 'Wed Mar 31 17:22:01 +0000 2021...</td>\n",
       "      <td>@Uber_Support @fltrtae hold on</td>\n",
       "    </tr>\n",
       "    <tr>\n",
       "      <th>4848</th>\n",
       "      <td>5567</td>\n",
       "      <td>MY0U1SANA</td>\n",
       "      <td>918655647763324928</td>\n",
       "      <td>fltrtae</td>\n",
       "      <td>1242683484704915457</td>\n",
       "      <td>Reply</td>\n",
       "      <td>2021-03-31 17:22:01</td>\n",
       "      <td>{'created_at': 'Wed Mar 31 17:22:01 +0000 2021...</td>\n",
       "      <td>@Uber_Support @fltrtae hold on</td>\n",
       "    </tr>\n",
       "  </tbody>\n",
       "</table>\n",
       "<p>4849 rows × 9 columns</p>\n",
       "</div>"
      ],
      "text/plain": [
       "      Unnamed: 0          source            source_id           target  \\\n",
       "0              0    Uber_Support           2815754953    wordofbrandon   \n",
       "1              2    Uber_Support           2815754953        CapeVgirl   \n",
       "2              4    SatishInnov8   722043526461145088     Uber_Support   \n",
       "3              5    Uber_Support           2815754953       realchetty   \n",
       "4              6    Uber_Support           2815754953  getfitwithgiddy   \n",
       "...          ...             ...                  ...              ...   \n",
       "4844        5563        ajb_neuk  1344742630731747328     Uber_Support   \n",
       "4845        5564  AdrianMatache7  1376698104028794882     Uber_Support   \n",
       "4846        5565          k_sovs  1369169148580823040     Uber_Support   \n",
       "4847        5566       MY0U1SANA   918655647763324928     Uber_Support   \n",
       "4848        5567       MY0U1SANA   918655647763324928          fltrtae   \n",
       "\n",
       "                target_id type_of_content           created_at  \\\n",
       "0              2566081240           Reply  2019-08-31 10:53:53   \n",
       "1               719534538           Reply  2019-10-01 07:45:30   \n",
       "2              2815754953           Reply  2019-12-09 17:11:51   \n",
       "3                28766827           Reply  2019-12-20 12:02:54   \n",
       "4               340722032           Reply  2019-12-22 11:25:56   \n",
       "...                   ...             ...                  ...   \n",
       "4844           2815754953           Reply  2021-03-31 17:15:48   \n",
       "4845           2815754953           Reply  2021-03-31 17:18:34   \n",
       "4846           2815754953           Reply  2021-03-31 17:19:01   \n",
       "4847           2815754953           Reply  2021-03-31 17:22:01   \n",
       "4848  1242683484704915457           Reply  2021-03-31 17:22:01   \n",
       "\n",
       "                                               all_data  \\\n",
       "0     {'created_at': 'Sat Aug 31 10:53:53 +0000 2019...   \n",
       "1     {'created_at': 'Tue Oct 01 07:45:30 +0000 2019...   \n",
       "2     {'created_at': 'Mon Dec 09 17:11:51 +0000 2019...   \n",
       "3     {'created_at': 'Fri Dec 20 12:02:54 +0000 2019...   \n",
       "4     {'created_at': 'Sun Dec 22 11:25:56 +0000 2019...   \n",
       "...                                                 ...   \n",
       "4844  {'created_at': 'Wed Mar 31 17:15:48 +0000 2021...   \n",
       "4845  {'created_at': 'Wed Mar 31 17:18:34 +0000 2021...   \n",
       "4846  {'created_at': 'Wed Mar 31 17:19:01 +0000 2021...   \n",
       "4847  {'created_at': 'Wed Mar 31 17:22:01 +0000 2021...   \n",
       "4848  {'created_at': 'Wed Mar 31 17:22:01 +0000 2021...   \n",
       "\n",
       "                                                   text  \n",
       "0     @wordofbrandon Thanks for bringing this to our...  \n",
       "1     @CapeVgirl Here to help. We suggest restarting...  \n",
       "2     @Uber_Support \\n1/n\\nI wish to respectfully st...  \n",
       "3     @realchetty We definitely want to ensure that ...  \n",
       "4     @getfitwithgiddy We definitely want to follow ...  \n",
       "...                                                 ...  \n",
       "4844  @Uber_Support Yeah cause that link is about as...  \n",
       "4845  @Uber_Support Hi guys. How long takes for a ba...  \n",
       "4846  @Uber_Support I filled out the form many times...  \n",
       "4847                     @Uber_Support @fltrtae hold on  \n",
       "4848                     @Uber_Support @fltrtae hold on  \n",
       "\n",
       "[4849 rows x 9 columns]"
      ]
     },
     "execution_count": 4,
     "metadata": {},
     "output_type": "execute_result"
    }
   ],
   "source": [
    "sentiment_df"
   ]
  },
  {
   "cell_type": "markdown",
   "metadata": {},
   "source": [
    "# Overall Sentiment"
   ]
  },
  {
   "cell_type": "code",
   "execution_count": 5,
   "metadata": {
    "scrolled": true
   },
   "outputs": [
    {
     "ename": "NameError",
     "evalue": "name 'sentiment_analyzer_score' is not defined",
     "output_type": "error",
     "traceback": [
      "\u001b[0;31m---------------------------------------------------------------------------\u001b[0m",
      "\u001b[0;31mNameError\u001b[0m                                 Traceback (most recent call last)",
      "\u001b[0;32m<ipython-input-5-97f0e9b5dc3e>\u001b[0m in \u001b[0;36m<module>\u001b[0;34m\u001b[0m\n\u001b[1;32m      6\u001b[0m \u001b[0mresults\u001b[0m \u001b[0;34m=\u001b[0m \u001b[0;34m[\u001b[0m\u001b[0;34m]\u001b[0m\u001b[0;34m\u001b[0m\u001b[0;34m\u001b[0m\u001b[0m\n\u001b[1;32m      7\u001b[0m \u001b[0;32mfor\u001b[0m \u001b[0mline\u001b[0m \u001b[0;32min\u001b[0m \u001b[0msentiments_overall\u001b[0m\u001b[0;34m:\u001b[0m\u001b[0;34m\u001b[0m\u001b[0;34m\u001b[0m\u001b[0m\n\u001b[0;32m----> 8\u001b[0;31m     \u001b[0msentiment_score\u001b[0m \u001b[0;34m=\u001b[0m \u001b[0msentiment_analyzer_score\u001b[0m\u001b[0;34m(\u001b[0m\u001b[0mstr\u001b[0m\u001b[0;34m(\u001b[0m\u001b[0mline\u001b[0m\u001b[0;34m)\u001b[0m\u001b[0;34m)\u001b[0m\u001b[0;34m\u001b[0m\u001b[0;34m\u001b[0m\u001b[0m\n\u001b[0m\u001b[1;32m      9\u001b[0m     \u001b[0mresults\u001b[0m\u001b[0;34m.\u001b[0m\u001b[0mappend\u001b[0m\u001b[0;34m(\u001b[0m\u001b[0msentiment_score\u001b[0m\u001b[0;34m)\u001b[0m\u001b[0;34m\u001b[0m\u001b[0;34m\u001b[0m\u001b[0m\n\u001b[1;32m     10\u001b[0m \u001b[0msentiment_df\u001b[0m\u001b[0;34m[\u001b[0m\u001b[0;34m'sentiment_score'\u001b[0m\u001b[0;34m]\u001b[0m \u001b[0;34m=\u001b[0m \u001b[0mresults\u001b[0m\u001b[0;34m\u001b[0m\u001b[0;34m\u001b[0m\u001b[0m\n",
      "\u001b[0;31mNameError\u001b[0m: name 'sentiment_analyzer_score' is not defined"
     ]
    }
   ],
   "source": [
    "sentiments_overall = sentiment_df['text'].tolist()\n",
    "#Sentiment Analysis of match threads\n",
    "\n",
    "\n",
    "# Get list of sentiment scores for pre match comments\n",
    "results = []\n",
    "for line in sentiments_overall:\n",
    "    sentiment_score = sentiment_analyzer_score(str(line))\n",
    "    results.append(sentiment_score)\n",
    "sentiment_df['sentiment_score'] = results\n",
    "sentiment_df.head()"
   ]
  },
  {
   "cell_type": "markdown",
   "metadata": {},
   "source": [
    "# To Uber Sentiment Analysis"
   ]
  },
  {
   "cell_type": "code",
   "execution_count": 6,
   "metadata": {},
   "outputs": [],
   "source": [
    "to_uber_sentiment_df = sentiment_df[sentiment_df['target'] == 'Uber_Support']"
   ]
  },
  {
   "cell_type": "code",
   "execution_count": 7,
   "metadata": {
    "scrolled": true
   },
   "outputs": [
    {
     "name": "stderr",
     "output_type": "stream",
     "text": [
      "/Users/bogt/opt/anaconda3/lib/python3.7/site-packages/ipykernel_launcher.py:12: SettingWithCopyWarning: \n",
      "A value is trying to be set on a copy of a slice from a DataFrame.\n",
      "Try using .loc[row_indexer,col_indexer] = value instead\n",
      "\n",
      "See the caveats in the documentation: https://pandas.pydata.org/pandas-docs/stable/user_guide/indexing.html#returning-a-view-versus-a-copy\n",
      "  if sys.path[0] == '':\n"
     ]
    },
    {
     "data": {
      "text/html": [
       "<div>\n",
       "<style scoped>\n",
       "    .dataframe tbody tr th:only-of-type {\n",
       "        vertical-align: middle;\n",
       "    }\n",
       "\n",
       "    .dataframe tbody tr th {\n",
       "        vertical-align: top;\n",
       "    }\n",
       "\n",
       "    .dataframe thead th {\n",
       "        text-align: right;\n",
       "    }\n",
       "</style>\n",
       "<table border=\"1\" class=\"dataframe\">\n",
       "  <thead>\n",
       "    <tr style=\"text-align: right;\">\n",
       "      <th></th>\n",
       "      <th>Unnamed: 0</th>\n",
       "      <th>source</th>\n",
       "      <th>source_id</th>\n",
       "      <th>target</th>\n",
       "      <th>target_id</th>\n",
       "      <th>type_of_content</th>\n",
       "      <th>created_at</th>\n",
       "      <th>all_data</th>\n",
       "      <th>text</th>\n",
       "      <th>sentiment_score</th>\n",
       "    </tr>\n",
       "  </thead>\n",
       "  <tbody>\n",
       "    <tr>\n",
       "      <th>2</th>\n",
       "      <td>4</td>\n",
       "      <td>SatishInnov8</td>\n",
       "      <td>722043526461145088</td>\n",
       "      <td>Uber_Support</td>\n",
       "      <td>2815754953</td>\n",
       "      <td>Reply</td>\n",
       "      <td>2019-12-09 17:11:51</td>\n",
       "      <td>{'created_at': 'Mon Dec 09 17:11:51 +0000 2019...</td>\n",
       "      <td>@Uber_Support \\n1/n\\nI wish to respectfully st...</td>\n",
       "      <td>0.6597</td>\n",
       "    </tr>\n",
       "    <tr>\n",
       "      <th>10</th>\n",
       "      <td>15</td>\n",
       "      <td>James_Carleton</td>\n",
       "      <td>247005181</td>\n",
       "      <td>Uber_Support</td>\n",
       "      <td>2815754953</td>\n",
       "      <td>Reply</td>\n",
       "      <td>2019-12-28 03:34:47</td>\n",
       "      <td>{'created_at': 'Sat Dec 28 03:34:47 +0000 2019...</td>\n",
       "      <td>@Uber_Support @UberEats @McDonaldsCanada hi te...</td>\n",
       "      <td>0.2263</td>\n",
       "    </tr>\n",
       "    <tr>\n",
       "      <th>13</th>\n",
       "      <td>18</td>\n",
       "      <td>SajeshSreejayan</td>\n",
       "      <td>96289683</td>\n",
       "      <td>Uber_Support</td>\n",
       "      <td>2815754953</td>\n",
       "      <td>Reply</td>\n",
       "      <td>2019-12-28 06:53:00</td>\n",
       "      <td>{'created_at': 'Sat Dec 28 06:53:00 +0000 2019...</td>\n",
       "      <td>@Uber_Support how awesome is this? Partner ask...</td>\n",
       "      <td>0.4939</td>\n",
       "    </tr>\n",
       "    <tr>\n",
       "      <th>14</th>\n",
       "      <td>19</td>\n",
       "      <td>iVigneshSuresh</td>\n",
       "      <td>59047875</td>\n",
       "      <td>Uber_Support</td>\n",
       "      <td>2815754953</td>\n",
       "      <td>Reply</td>\n",
       "      <td>2019-12-28 09:56:17</td>\n",
       "      <td>{'created_at': 'Sat Dec 28 09:56:17 +0000 2019...</td>\n",
       "      <td>@Uber_Support @Uber_Support @Uber_India - apar...</td>\n",
       "      <td>0.5994</td>\n",
       "    </tr>\n",
       "    <tr>\n",
       "      <th>17</th>\n",
       "      <td>24</td>\n",
       "      <td>MsLuna80</td>\n",
       "      <td>136178837</td>\n",
       "      <td>Uber_Support</td>\n",
       "      <td>2815754953</td>\n",
       "      <td>Reply</td>\n",
       "      <td>2019-12-28 12:27:24</td>\n",
       "      <td>{'created_at': 'Sat Dec 28 12:27:24 +0000 2019...</td>\n",
       "      <td>@Uber_Support 2132480087 this guy gave me the ...</td>\n",
       "      <td>0.0000</td>\n",
       "    </tr>\n",
       "  </tbody>\n",
       "</table>\n",
       "</div>"
      ],
      "text/plain": [
       "    Unnamed: 0           source           source_id        target   target_id  \\\n",
       "2            4     SatishInnov8  722043526461145088  Uber_Support  2815754953   \n",
       "10          15   James_Carleton           247005181  Uber_Support  2815754953   \n",
       "13          18  SajeshSreejayan            96289683  Uber_Support  2815754953   \n",
       "14          19   iVigneshSuresh            59047875  Uber_Support  2815754953   \n",
       "17          24         MsLuna80           136178837  Uber_Support  2815754953   \n",
       "\n",
       "   type_of_content           created_at  \\\n",
       "2            Reply  2019-12-09 17:11:51   \n",
       "10           Reply  2019-12-28 03:34:47   \n",
       "13           Reply  2019-12-28 06:53:00   \n",
       "14           Reply  2019-12-28 09:56:17   \n",
       "17           Reply  2019-12-28 12:27:24   \n",
       "\n",
       "                                             all_data  \\\n",
       "2   {'created_at': 'Mon Dec 09 17:11:51 +0000 2019...   \n",
       "10  {'created_at': 'Sat Dec 28 03:34:47 +0000 2019...   \n",
       "13  {'created_at': 'Sat Dec 28 06:53:00 +0000 2019...   \n",
       "14  {'created_at': 'Sat Dec 28 09:56:17 +0000 2019...   \n",
       "17  {'created_at': 'Sat Dec 28 12:27:24 +0000 2019...   \n",
       "\n",
       "                                                 text  sentiment_score  \n",
       "2   @Uber_Support \\n1/n\\nI wish to respectfully st...           0.6597  \n",
       "10  @Uber_Support @UberEats @McDonaldsCanada hi te...           0.2263  \n",
       "13  @Uber_Support how awesome is this? Partner ask...           0.4939  \n",
       "14  @Uber_Support @Uber_Support @Uber_India - apar...           0.5994  \n",
       "17  @Uber_Support 2132480087 this guy gave me the ...           0.0000  "
      ]
     },
     "execution_count": 7,
     "metadata": {},
     "output_type": "execute_result"
    }
   ],
   "source": [
    "to_uber_sentiments= to_uber_sentiment_df['text'].tolist()\n",
    "#Sentiment Analysis of match threads\n",
    "analyser = SentimentIntensityAnalyzer()\n",
    "def sentiment_analyzer_score(line):\n",
    "    score = analyser.polarity_scores(line)\n",
    "    return score['compound']\n",
    "# Get list of sentiment scores for pre match comments\n",
    "results_to = []\n",
    "for line in to_uber_sentiments:\n",
    "    sentiment_score = sentiment_analyzer_score(str(line))\n",
    "    results_to.append(sentiment_score)\n",
    "to_uber_sentiment_df['sentiment_score'] = results_to\n",
    "to_uber_sentiment_df.head()"
   ]
  },
  {
   "cell_type": "markdown",
   "metadata": {},
   "source": [
    "# Pre-Covid (To Uber) Sentiments"
   ]
  },
  {
   "cell_type": "code",
   "execution_count": 8,
   "metadata": {
    "scrolled": true
   },
   "outputs": [
    {
     "name": "stderr",
     "output_type": "stream",
     "text": [
      "/Users/bogt/opt/anaconda3/lib/python3.7/site-packages/ipykernel_launcher.py:1: DeprecationWarning: parsing timezone aware datetimes is deprecated; this will raise an error in the future\n",
      "  \"\"\"Entry point for launching an IPython kernel.\n"
     ]
    }
   ],
   "source": [
    "covid_date = np.datetime64('2020-04-01T01:00:00.000000+0100')"
   ]
  },
  {
   "cell_type": "code",
   "execution_count": 9,
   "metadata": {},
   "outputs": [],
   "source": [
    "pre_to_uber_sentiment_df = to_uber_sentiment_df[to_uber_sentiment_df['created_at'] <= '2020-04-01 01:00:00']"
   ]
  },
  {
   "cell_type": "code",
   "execution_count": 10,
   "metadata": {},
   "outputs": [
    {
     "ename": "NameError",
     "evalue": "name 'post_to_uber_sentiment_df' is not defined",
     "output_type": "error",
     "traceback": [
      "\u001b[0;31m---------------------------------------------------------------------------\u001b[0m",
      "\u001b[0;31mNameError\u001b[0m                                 Traceback (most recent call last)",
      "\u001b[0;32m<ipython-input-10-cf441f267492>\u001b[0m in \u001b[0;36m<module>\u001b[0;34m\u001b[0m\n\u001b[0;32m----> 1\u001b[0;31m \u001b[0mpost_to_uber_sentiment_df\u001b[0m\u001b[0;34m\u001b[0m\u001b[0;34m\u001b[0m\u001b[0m\n\u001b[0m",
      "\u001b[0;31mNameError\u001b[0m: name 'post_to_uber_sentiment_df' is not defined"
     ]
    }
   ],
   "source": [
    "post_to_uber_sentiment_df"
   ]
  },
  {
   "cell_type": "code",
   "execution_count": 11,
   "metadata": {
    "scrolled": false
   },
   "outputs": [
    {
     "name": "stderr",
     "output_type": "stream",
     "text": [
      "/Users/bogt/opt/anaconda3/lib/python3.7/site-packages/ipykernel_launcher.py:12: SettingWithCopyWarning: \n",
      "A value is trying to be set on a copy of a slice from a DataFrame.\n",
      "Try using .loc[row_indexer,col_indexer] = value instead\n",
      "\n",
      "See the caveats in the documentation: https://pandas.pydata.org/pandas-docs/stable/user_guide/indexing.html#returning-a-view-versus-a-copy\n",
      "  if sys.path[0] == '':\n"
     ]
    },
    {
     "data": {
      "text/html": [
       "<div>\n",
       "<style scoped>\n",
       "    .dataframe tbody tr th:only-of-type {\n",
       "        vertical-align: middle;\n",
       "    }\n",
       "\n",
       "    .dataframe tbody tr th {\n",
       "        vertical-align: top;\n",
       "    }\n",
       "\n",
       "    .dataframe thead th {\n",
       "        text-align: right;\n",
       "    }\n",
       "</style>\n",
       "<table border=\"1\" class=\"dataframe\">\n",
       "  <thead>\n",
       "    <tr style=\"text-align: right;\">\n",
       "      <th></th>\n",
       "      <th>Unnamed: 0</th>\n",
       "      <th>source</th>\n",
       "      <th>source_id</th>\n",
       "      <th>target</th>\n",
       "      <th>target_id</th>\n",
       "      <th>type_of_content</th>\n",
       "      <th>created_at</th>\n",
       "      <th>all_data</th>\n",
       "      <th>text</th>\n",
       "      <th>sentiment_score</th>\n",
       "    </tr>\n",
       "  </thead>\n",
       "  <tbody>\n",
       "    <tr>\n",
       "      <th>2</th>\n",
       "      <td>4</td>\n",
       "      <td>SatishInnov8</td>\n",
       "      <td>722043526461145088</td>\n",
       "      <td>Uber_Support</td>\n",
       "      <td>2815754953</td>\n",
       "      <td>Reply</td>\n",
       "      <td>2019-12-09 17:11:51</td>\n",
       "      <td>{'created_at': 'Mon Dec 09 17:11:51 +0000 2019...</td>\n",
       "      <td>@Uber_Support \\n1/n\\nI wish to respectfully st...</td>\n",
       "      <td>0.6597</td>\n",
       "    </tr>\n",
       "    <tr>\n",
       "      <th>10</th>\n",
       "      <td>15</td>\n",
       "      <td>James_Carleton</td>\n",
       "      <td>247005181</td>\n",
       "      <td>Uber_Support</td>\n",
       "      <td>2815754953</td>\n",
       "      <td>Reply</td>\n",
       "      <td>2019-12-28 03:34:47</td>\n",
       "      <td>{'created_at': 'Sat Dec 28 03:34:47 +0000 2019...</td>\n",
       "      <td>@Uber_Support @UberEats @McDonaldsCanada hi te...</td>\n",
       "      <td>0.2263</td>\n",
       "    </tr>\n",
       "    <tr>\n",
       "      <th>13</th>\n",
       "      <td>18</td>\n",
       "      <td>SajeshSreejayan</td>\n",
       "      <td>96289683</td>\n",
       "      <td>Uber_Support</td>\n",
       "      <td>2815754953</td>\n",
       "      <td>Reply</td>\n",
       "      <td>2019-12-28 06:53:00</td>\n",
       "      <td>{'created_at': 'Sat Dec 28 06:53:00 +0000 2019...</td>\n",
       "      <td>@Uber_Support how awesome is this? Partner ask...</td>\n",
       "      <td>0.4939</td>\n",
       "    </tr>\n",
       "    <tr>\n",
       "      <th>14</th>\n",
       "      <td>19</td>\n",
       "      <td>iVigneshSuresh</td>\n",
       "      <td>59047875</td>\n",
       "      <td>Uber_Support</td>\n",
       "      <td>2815754953</td>\n",
       "      <td>Reply</td>\n",
       "      <td>2019-12-28 09:56:17</td>\n",
       "      <td>{'created_at': 'Sat Dec 28 09:56:17 +0000 2019...</td>\n",
       "      <td>@Uber_Support @Uber_Support @Uber_India - apar...</td>\n",
       "      <td>0.5994</td>\n",
       "    </tr>\n",
       "    <tr>\n",
       "      <th>17</th>\n",
       "      <td>24</td>\n",
       "      <td>MsLuna80</td>\n",
       "      <td>136178837</td>\n",
       "      <td>Uber_Support</td>\n",
       "      <td>2815754953</td>\n",
       "      <td>Reply</td>\n",
       "      <td>2019-12-28 12:27:24</td>\n",
       "      <td>{'created_at': 'Sat Dec 28 12:27:24 +0000 2019...</td>\n",
       "      <td>@Uber_Support 2132480087 this guy gave me the ...</td>\n",
       "      <td>0.0000</td>\n",
       "    </tr>\n",
       "  </tbody>\n",
       "</table>\n",
       "</div>"
      ],
      "text/plain": [
       "    Unnamed: 0           source           source_id        target   target_id  \\\n",
       "2            4     SatishInnov8  722043526461145088  Uber_Support  2815754953   \n",
       "10          15   James_Carleton           247005181  Uber_Support  2815754953   \n",
       "13          18  SajeshSreejayan            96289683  Uber_Support  2815754953   \n",
       "14          19   iVigneshSuresh            59047875  Uber_Support  2815754953   \n",
       "17          24         MsLuna80           136178837  Uber_Support  2815754953   \n",
       "\n",
       "   type_of_content           created_at  \\\n",
       "2            Reply  2019-12-09 17:11:51   \n",
       "10           Reply  2019-12-28 03:34:47   \n",
       "13           Reply  2019-12-28 06:53:00   \n",
       "14           Reply  2019-12-28 09:56:17   \n",
       "17           Reply  2019-12-28 12:27:24   \n",
       "\n",
       "                                             all_data  \\\n",
       "2   {'created_at': 'Mon Dec 09 17:11:51 +0000 2019...   \n",
       "10  {'created_at': 'Sat Dec 28 03:34:47 +0000 2019...   \n",
       "13  {'created_at': 'Sat Dec 28 06:53:00 +0000 2019...   \n",
       "14  {'created_at': 'Sat Dec 28 09:56:17 +0000 2019...   \n",
       "17  {'created_at': 'Sat Dec 28 12:27:24 +0000 2019...   \n",
       "\n",
       "                                                 text  sentiment_score  \n",
       "2   @Uber_Support \\n1/n\\nI wish to respectfully st...           0.6597  \n",
       "10  @Uber_Support @UberEats @McDonaldsCanada hi te...           0.2263  \n",
       "13  @Uber_Support how awesome is this? Partner ask...           0.4939  \n",
       "14  @Uber_Support @Uber_Support @Uber_India - apar...           0.5994  \n",
       "17  @Uber_Support 2132480087 this guy gave me the ...           0.0000  "
      ]
     },
     "execution_count": 11,
     "metadata": {},
     "output_type": "execute_result"
    }
   ],
   "source": [
    "pre_to_uber_sentiments= pre_to_uber_sentiment_df['text'].tolist()\n",
    "#Sentiment Analysis of match threads\n",
    "analyser = SentimentIntensityAnalyzer()\n",
    "def sentiment_analyzer_score(line):\n",
    "    score = analyser.polarity_scores(line)\n",
    "    return score['compound']\n",
    "# Get list of sentiment scores for pre match comments\n",
    "results_pre_to = []\n",
    "for line in pre_to_uber_sentiments:\n",
    "    sentiment_score = sentiment_analyzer_score(str(line))\n",
    "    results_pre_to.append(sentiment_score)\n",
    "pre_to_uber_sentiment_df['sentiment_score'] = results_pre_to\n",
    "pre_to_uber_sentiment_df.head()"
   ]
  },
  {
   "cell_type": "markdown",
   "metadata": {},
   "source": [
    "# Post-Covid (To Uber) Sentiments"
   ]
  },
  {
   "cell_type": "code",
   "execution_count": 12,
   "metadata": {},
   "outputs": [],
   "source": [
    "post_to_uber_sentiment_df = to_uber_sentiment_df[to_uber_sentiment_df['created_at'] > '2020-04-01 01:00:00']"
   ]
  },
  {
   "cell_type": "code",
   "execution_count": 13,
   "metadata": {},
   "outputs": [
    {
     "name": "stderr",
     "output_type": "stream",
     "text": [
      "/Users/bogt/opt/anaconda3/lib/python3.7/site-packages/ipykernel_launcher.py:12: SettingWithCopyWarning: \n",
      "A value is trying to be set on a copy of a slice from a DataFrame.\n",
      "Try using .loc[row_indexer,col_indexer] = value instead\n",
      "\n",
      "See the caveats in the documentation: https://pandas.pydata.org/pandas-docs/stable/user_guide/indexing.html#returning-a-view-versus-a-copy\n",
      "  if sys.path[0] == '':\n"
     ]
    },
    {
     "data": {
      "text/html": [
       "<div>\n",
       "<style scoped>\n",
       "    .dataframe tbody tr th:only-of-type {\n",
       "        vertical-align: middle;\n",
       "    }\n",
       "\n",
       "    .dataframe tbody tr th {\n",
       "        vertical-align: top;\n",
       "    }\n",
       "\n",
       "    .dataframe thead th {\n",
       "        text-align: right;\n",
       "    }\n",
       "</style>\n",
       "<table border=\"1\" class=\"dataframe\">\n",
       "  <thead>\n",
       "    <tr style=\"text-align: right;\">\n",
       "      <th></th>\n",
       "      <th>Unnamed: 0</th>\n",
       "      <th>source</th>\n",
       "      <th>source_id</th>\n",
       "      <th>target</th>\n",
       "      <th>target_id</th>\n",
       "      <th>type_of_content</th>\n",
       "      <th>created_at</th>\n",
       "      <th>all_data</th>\n",
       "      <th>text</th>\n",
       "      <th>sentiment_score</th>\n",
       "    </tr>\n",
       "  </thead>\n",
       "  <tbody>\n",
       "    <tr>\n",
       "      <th>635</th>\n",
       "      <td>690</td>\n",
       "      <td>Arshdee12667790</td>\n",
       "      <td>1324955159395356672</td>\n",
       "      <td>Uber_Support</td>\n",
       "      <td>2815754953</td>\n",
       "      <td>Reply</td>\n",
       "      <td>2020-12-29 02:49:31</td>\n",
       "      <td>{'created_at': 'Tue Dec 29 02:49:31 +0000 2020...</td>\n",
       "      <td>@Uber_Support I used to work in SouthAustralia...</td>\n",
       "      <td>0.0000</td>\n",
       "    </tr>\n",
       "    <tr>\n",
       "      <th>638</th>\n",
       "      <td>695</td>\n",
       "      <td>AbdulRa10911356</td>\n",
       "      <td>1343811137159258112</td>\n",
       "      <td>Uber_Support</td>\n",
       "      <td>2815754953</td>\n",
       "      <td>Reply</td>\n",
       "      <td>2020-12-29 07:14:44</td>\n",
       "      <td>{'created_at': 'Tue Dec 29 07:14:44 +0000 2020...</td>\n",
       "      <td>@Uber_Support sir I have issues my driver app ...</td>\n",
       "      <td>0.7845</td>\n",
       "    </tr>\n",
       "    <tr>\n",
       "      <th>639</th>\n",
       "      <td>696</td>\n",
       "      <td>AbdulRa10911356</td>\n",
       "      <td>1343811137159258112</td>\n",
       "      <td>Uber_Support</td>\n",
       "      <td>2815754953</td>\n",
       "      <td>Reply</td>\n",
       "      <td>2020-12-29 07:17:23</td>\n",
       "      <td>{'created_at': 'Tue Dec 29 07:17:23 +0000 2020...</td>\n",
       "      <td>@Uber_Support my driver app issue please help me</td>\n",
       "      <td>0.6124</td>\n",
       "    </tr>\n",
       "    <tr>\n",
       "      <th>641</th>\n",
       "      <td>699</td>\n",
       "      <td>ZaidAmir7</td>\n",
       "      <td>37367374</td>\n",
       "      <td>Uber_Support</td>\n",
       "      <td>2815754953</td>\n",
       "      <td>Reply</td>\n",
       "      <td>2020-12-29 08:36:09</td>\n",
       "      <td>{'created_at': 'Tue Dec 29 08:36:09 +0000 2020...</td>\n",
       "      <td>@Uber_Support yeah, got your response and it s...</td>\n",
       "      <td>0.4745</td>\n",
       "    </tr>\n",
       "    <tr>\n",
       "      <th>642</th>\n",
       "      <td>700</td>\n",
       "      <td>ZaidAmir7</td>\n",
       "      <td>37367374</td>\n",
       "      <td>Uber_Support</td>\n",
       "      <td>2815754953</td>\n",
       "      <td>Reply</td>\n",
       "      <td>2020-12-29 08:37:44</td>\n",
       "      <td>{'created_at': 'Tue Dec 29 08:37:44 +0000 2020...</td>\n",
       "      <td>@Uber_Support Is there someone or somewhere el...</td>\n",
       "      <td>0.0000</td>\n",
       "    </tr>\n",
       "  </tbody>\n",
       "</table>\n",
       "</div>"
      ],
      "text/plain": [
       "     Unnamed: 0           source            source_id        target  \\\n",
       "635         690  Arshdee12667790  1324955159395356672  Uber_Support   \n",
       "638         695  AbdulRa10911356  1343811137159258112  Uber_Support   \n",
       "639         696  AbdulRa10911356  1343811137159258112  Uber_Support   \n",
       "641         699        ZaidAmir7             37367374  Uber_Support   \n",
       "642         700        ZaidAmir7             37367374  Uber_Support   \n",
       "\n",
       "      target_id type_of_content           created_at  \\\n",
       "635  2815754953           Reply  2020-12-29 02:49:31   \n",
       "638  2815754953           Reply  2020-12-29 07:14:44   \n",
       "639  2815754953           Reply  2020-12-29 07:17:23   \n",
       "641  2815754953           Reply  2020-12-29 08:36:09   \n",
       "642  2815754953           Reply  2020-12-29 08:37:44   \n",
       "\n",
       "                                              all_data  \\\n",
       "635  {'created_at': 'Tue Dec 29 02:49:31 +0000 2020...   \n",
       "638  {'created_at': 'Tue Dec 29 07:14:44 +0000 2020...   \n",
       "639  {'created_at': 'Tue Dec 29 07:17:23 +0000 2020...   \n",
       "641  {'created_at': 'Tue Dec 29 08:36:09 +0000 2020...   \n",
       "642  {'created_at': 'Tue Dec 29 08:37:44 +0000 2020...   \n",
       "\n",
       "                                                  text  sentiment_score  \n",
       "635  @Uber_Support I used to work in SouthAustralia...           0.0000  \n",
       "638  @Uber_Support sir I have issues my driver app ...           0.7845  \n",
       "639   @Uber_Support my driver app issue please help me           0.6124  \n",
       "641  @Uber_Support yeah, got your response and it s...           0.4745  \n",
       "642  @Uber_Support Is there someone or somewhere el...           0.0000  "
      ]
     },
     "execution_count": 13,
     "metadata": {},
     "output_type": "execute_result"
    }
   ],
   "source": [
    "post_to_uber_sentiment= post_to_uber_sentiment_df['text'].tolist()\n",
    "#Sentiment Analysis of match threads\n",
    "analyser = SentimentIntensityAnalyzer()\n",
    "def sentiment_analyzer_score(line):\n",
    "    score = analyser.polarity_scores(line)\n",
    "    return score['compound']\n",
    "# Get list of sentiment scores for pre match comments\n",
    "results_post_to = []\n",
    "for line in post_to_uber_sentiment:\n",
    "    sentiment_score = sentiment_analyzer_score(str(line))\n",
    "    results_post_to.append(sentiment_score)\n",
    "post_to_uber_sentiment_df['sentiment_score'] = results_post_to\n",
    "post_to_uber_sentiment_df.head()"
   ]
  },
  {
   "cell_type": "markdown",
   "metadata": {},
   "source": [
    "From_Uber"
   ]
  },
  {
   "cell_type": "code",
   "execution_count": 14,
   "metadata": {},
   "outputs": [],
   "source": [
    "from_uber_sentiment_df = sentiment_df[sentiment_df['source'] == 'Uber_Support']"
   ]
  },
  {
   "cell_type": "code",
   "execution_count": 16,
   "metadata": {
    "scrolled": true
   },
   "outputs": [
    {
     "ename": "IndentationError",
     "evalue": "unindent does not match any outer indentation level (<tokenize>, line 7)",
     "output_type": "error",
     "traceback": [
      "\u001b[0;36m  File \u001b[0;32m\"<tokenize>\"\u001b[0;36m, line \u001b[0;32m7\u001b[0m\n\u001b[0;31m    Get list of sentiment scores\u001b[0m\n\u001b[0m    ^\u001b[0m\n\u001b[0;31mIndentationError\u001b[0m\u001b[0;31m:\u001b[0m unindent does not match any outer indentation level\n"
     ]
    }
   ],
   "source": [
    "from_uber_sentiment = from_uber_sentiment_df['text'].tolist()\n",
    "Sentiment Analysis of tweets from Uber\n",
    "analyser = SentimentIntensityAnalyzer()\n",
    "def sentiment_analyzer_score(line):\n",
    "    score = analyser.polarity_scores(line)\n",
    "    return score['compound']\n",
    " Get list of sentiment scores \n",
    "results_from = []\n",
    "for line in from_uber_sentiment:\n",
    "    sentiment_score = sentiment_analyzer_score(str(line))\n",
    "    results_from.append(sentiment_score)\n",
    "from_uber_sentiment_df['sentiment_score'] = results_from\n",
    "from_uber_sentiment_df.head()"
   ]
  },
  {
   "cell_type": "markdown",
   "metadata": {},
   "source": [
    "# Sentiment for different types of Complaints"
   ]
  },
  {
   "cell_type": "markdown",
   "metadata": {},
   "source": [
    "**Uber Eats - Delivery**"
   ]
  },
  {
   "cell_type": "code",
   "execution_count": 17,
   "metadata": {
    "scrolled": true
   },
   "outputs": [
    {
     "ename": "NameError",
     "evalue": "name 'route' is not defined",
     "output_type": "error",
     "traceback": [
      "\u001b[0;31m---------------------------------------------------------------------------\u001b[0m",
      "\u001b[0;31mNameError\u001b[0m                                 Traceback (most recent call last)",
      "\u001b[0;32m<ipython-input-17-b634ea8ce851>\u001b[0m in \u001b[0;36m<module>\u001b[0;34m\u001b[0m\n\u001b[1;32m      2\u001b[0m \u001b[0mcomplaint_keyword\u001b[0m\u001b[0;34m\u001b[0m\u001b[0;34m\u001b[0m\u001b[0m\n\u001b[1;32m      3\u001b[0m \u001b[0;34m\u001b[0m\u001b[0m\n\u001b[0;32m----> 4\u001b[0;31m \u001b[0mroute\u001b[0m\u001b[0;34m|\u001b[0m\u001b[0mdestination\u001b[0m\u001b[0;34m\u001b[0m\u001b[0;34m\u001b[0m\u001b[0m\n\u001b[0m",
      "\u001b[0;31mNameError\u001b[0m: name 'route' is not defined"
     ]
    }
   ],
   "source": [
    "complaint_keyword = ('driver', 'cancelled', 'payment', 'route', 'delivery', 'app', 'delay')\n",
    "complaint_keyword\n",
    "\n",
    "route|destination"
   ]
  },
  {
   "cell_type": "markdown",
   "metadata": {},
   "source": [
    "Post Covid"
   ]
  },
  {
   "cell_type": "code",
   "execution_count": 18,
   "metadata": {},
   "outputs": [
    {
     "data": {
      "text/plain": [
       "-0.041682608695652115"
      ]
     },
     "execution_count": 18,
     "metadata": {},
     "output_type": "execute_result"
    }
   ],
   "source": [
    "post_complaint_ubereats = post_to_uber_sentiment_df[post_to_uber_sentiment_df['text'].str.contains('delivery|left|order|food|restaurant|uncooked|stale',na=False)]\n",
    "post_complaint_ubereats_sentiment = post_complaint_ubereats.mean()['sentiment_score']\n",
    "post_complaint_ubereats_sentiment"
   ]
  },
  {
   "cell_type": "markdown",
   "metadata": {},
   "source": [
    "Pre Covid"
   ]
  },
  {
   "cell_type": "code",
   "execution_count": 19,
   "metadata": {},
   "outputs": [
    {
     "data": {
      "text/plain": [
       "0.04163103448275863"
      ]
     },
     "execution_count": 19,
     "metadata": {},
     "output_type": "execute_result"
    }
   ],
   "source": [
    "pre_complaint_ubereats = pre_to_uber_sentiment_df[pre_to_uber_sentiment_df['text'].str.contains('delivery|left|order|food|restaurant|uncooked|stale',na=False)]\n",
    "pre_complaint_ubereats_sentiment = pre_complaint_ubereats.mean()['sentiment_score']\n",
    "pre_complaint_ubereats_sentiment"
   ]
  },
  {
   "cell_type": "markdown",
   "metadata": {},
   "source": [
    "**Driver**"
   ]
  },
  {
   "cell_type": "code",
   "execution_count": 20,
   "metadata": {},
   "outputs": [
    {
     "data": {
      "text/plain": [
       "-0.09199777158774372"
      ]
     },
     "execution_count": 20,
     "metadata": {},
     "output_type": "execute_result"
    }
   ],
   "source": [
    "to_complaint_driver = to_uber_sentiment_df[to_uber_sentiment_df['text'].str.contains('driver',na=False)]\n",
    "to_complaint_driver_sentiment = to_complaint_driver.mean()['sentiment_score']\n",
    "to_complaint_driver_sentiment"
   ]
  },
  {
   "cell_type": "markdown",
   "metadata": {},
   "source": [
    "**Cancellation**"
   ]
  },
  {
   "cell_type": "code",
   "execution_count": 21,
   "metadata": {},
   "outputs": [
    {
     "data": {
      "text/plain": [
       "-0.21628248175182482"
      ]
     },
     "execution_count": 21,
     "metadata": {},
     "output_type": "execute_result"
    }
   ],
   "source": [
    "to_complaint_cancellation = to_uber_sentiment_df[to_uber_sentiment_df['text'].str.contains('cancel|cancelled|cancellation',na=False)]\n",
    "to_complaint_cancellation_sentiment = to_complaint_cancellation.mean()['sentiment_score']\n",
    "to_complaint_cancellation_sentiment"
   ]
  },
  {
   "cell_type": "markdown",
   "metadata": {},
   "source": [
    "**Delayed Service**"
   ]
  },
  {
   "cell_type": "code",
   "execution_count": 22,
   "metadata": {},
   "outputs": [
    {
     "data": {
      "text/plain": [
       "-0.009344117647058822"
      ]
     },
     "execution_count": 22,
     "metadata": {},
     "output_type": "execute_result"
    }
   ],
   "source": [
    "to_complaint_delay = to_uber_sentiment_df[to_uber_sentiment_df['text'].str.contains('delay|late|wait|waiting|time',na=False)]\n",
    "to_complaint_delay_sentiment = to_complaint_delay.mean()['sentiment_score']\n",
    "to_complaint_delay_sentiment"
   ]
  },
  {
   "cell_type": "markdown",
   "metadata": {},
   "source": [
    "**Payment**"
   ]
  },
  {
   "cell_type": "code",
   "execution_count": 23,
   "metadata": {},
   "outputs": [
    {
     "data": {
      "text/plain": [
       "0.03130629921259845"
      ]
     },
     "execution_count": 23,
     "metadata": {},
     "output_type": "execute_result"
    }
   ],
   "source": [
    "to_complaint_payment = to_uber_sentiment_df[to_uber_sentiment_df['text'].str.contains('payment|cash|card|money|pay|promocode|promo',na=False)]\n",
    "to_complaint_payment_sentiment = to_complaint_payment.mean()['sentiment_score']\n",
    "to_complaint_payment_sentiment"
   ]
  },
  {
   "cell_type": "markdown",
   "metadata": {},
   "source": [
    "**Uber App**"
   ]
  },
  {
   "cell_type": "code",
   "execution_count": 24,
   "metadata": {},
   "outputs": [
    {
     "data": {
      "text/plain": [
       "-0.018421580547112466"
      ]
     },
     "execution_count": 24,
     "metadata": {},
     "output_type": "execute_result"
    }
   ],
   "source": [
    "to_complaint_app = to_uber_sentiment_df[to_uber_sentiment_df['text'].str.contains('app|uber app|application|customer service|customer care',na=False)]\n",
    "to_complaint_app_sentiment = to_complaint_app.mean()['sentiment_score']\n",
    "to_complaint_app_sentiment"
   ]
  },
  {
   "cell_type": "code",
   "execution_count": 25,
   "metadata": {},
   "outputs": [],
   "source": [
    "complaints = {'Post-COVID Uber Eats': post_complaint_ubereats_sentiment, 'Pre-COVID Uber Eats': pre_complaint_ubereats_sentiment, \n",
    "             'Drivers': to_complaint_driver_sentiment, 'Cancellations': to_complaint_cancellation_sentiment, 'Delays': to_complaint_delay_sentiment,\n",
    "             'Payments': to_complaint_payment_sentiment, 'App': to_complaint_app_sentiment}"
   ]
  },
  {
   "cell_type": "code",
   "execution_count": 27,
   "metadata": {},
   "outputs": [
    {
     "data": {
      "text/html": [
       "<div>\n",
       "<style scoped>\n",
       "    .dataframe tbody tr th:only-of-type {\n",
       "        vertical-align: middle;\n",
       "    }\n",
       "\n",
       "    .dataframe tbody tr th {\n",
       "        vertical-align: top;\n",
       "    }\n",
       "\n",
       "    .dataframe thead th {\n",
       "        text-align: right;\n",
       "    }\n",
       "</style>\n",
       "<table border=\"1\" class=\"dataframe\">\n",
       "  <thead>\n",
       "    <tr style=\"text-align: right;\">\n",
       "      <th></th>\n",
       "      <th>Complaint Type</th>\n",
       "      <th>Sentiment</th>\n",
       "    </tr>\n",
       "  </thead>\n",
       "  <tbody>\n",
       "    <tr>\n",
       "      <th>0</th>\n",
       "      <td>Post-COVID Uber Eats</td>\n",
       "      <td>-0.041683</td>\n",
       "    </tr>\n",
       "    <tr>\n",
       "      <th>1</th>\n",
       "      <td>Pre-COVID Uber Eats</td>\n",
       "      <td>0.041631</td>\n",
       "    </tr>\n",
       "    <tr>\n",
       "      <th>2</th>\n",
       "      <td>Drivers</td>\n",
       "      <td>-0.091998</td>\n",
       "    </tr>\n",
       "    <tr>\n",
       "      <th>3</th>\n",
       "      <td>Cancellations</td>\n",
       "      <td>-0.216282</td>\n",
       "    </tr>\n",
       "    <tr>\n",
       "      <th>4</th>\n",
       "      <td>Delays</td>\n",
       "      <td>-0.009344</td>\n",
       "    </tr>\n",
       "    <tr>\n",
       "      <th>5</th>\n",
       "      <td>Payments</td>\n",
       "      <td>0.031306</td>\n",
       "    </tr>\n",
       "    <tr>\n",
       "      <th>6</th>\n",
       "      <td>App</td>\n",
       "      <td>-0.018422</td>\n",
       "    </tr>\n",
       "  </tbody>\n",
       "</table>\n",
       "</div>"
      ],
      "text/plain": [
       "         Complaint Type  Sentiment\n",
       "0  Post-COVID Uber Eats  -0.041683\n",
       "1   Pre-COVID Uber Eats   0.041631\n",
       "2               Drivers  -0.091998\n",
       "3         Cancellations  -0.216282\n",
       "4                Delays  -0.009344\n",
       "5              Payments   0.031306\n",
       "6                   App  -0.018422"
      ]
     },
     "execution_count": 27,
     "metadata": {},
     "output_type": "execute_result"
    }
   ],
   "source": [
    "complaints_sentiment = pd.DataFrame.from_dict(complaints, orient='index').reset_index()\n",
    "complaints_sentiment.columns = ['Complaint Type', 'Sentiment']\n",
    "complaints_sentiment"
   ]
  },
  {
   "cell_type": "code",
   "execution_count": 31,
   "metadata": {},
   "outputs": [],
   "source": [
    "# complaints_sentiment.to_csv(r'.\\data\\complaints_sentiment.csv')\n",
    "complaints_sentiment.to_csv('./data/complaints_sentiment.csv', index=False)"
   ]
  },
  {
   "cell_type": "code",
   "execution_count": null,
   "metadata": {},
   "outputs": [],
   "source": []
  }
 ],
 "metadata": {
  "kernelspec": {
   "display_name": "Python 3",
   "language": "python",
   "name": "python3"
  },
  "language_info": {
   "codemirror_mode": {
    "name": "ipython",
    "version": 3
   },
   "file_extension": ".py",
   "mimetype": "text/x-python",
   "name": "python",
   "nbconvert_exporter": "python",
   "pygments_lexer": "ipython3",
   "version": "3.7.7"
  }
 },
 "nbformat": 4,
 "nbformat_minor": 2
}
