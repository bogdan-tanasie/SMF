{
 "cells": [
  {
   "cell_type": "code",
   "execution_count": 3,
   "id": "round-reward",
   "metadata": {},
   "outputs": [
    {
     "name": "stdout",
     "output_type": "stream",
     "text": [
      "Requirement already satisfied: wordcloud in /Library/Frameworks/Python.framework/Versions/3.7/lib/python3.7/site-packages (1.8.1)\n",
      "Requirement already satisfied: numpy>=1.6.1 in /Library/Frameworks/Python.framework/Versions/3.7/lib/python3.7/site-packages (from wordcloud) (1.20.2)\n",
      "Requirement already satisfied: pillow in /Library/Frameworks/Python.framework/Versions/3.7/lib/python3.7/site-packages (from wordcloud) (8.2.0)\n",
      "Requirement already satisfied: matplotlib in /Library/Frameworks/Python.framework/Versions/3.7/lib/python3.7/site-packages (from wordcloud) (3.4.1)\n",
      "Requirement already satisfied: python-dateutil>=2.7 in /Library/Frameworks/Python.framework/Versions/3.7/lib/python3.7/site-packages (from matplotlib->wordcloud) (2.8.1)\n",
      "Requirement already satisfied: kiwisolver>=1.0.1 in /Library/Frameworks/Python.framework/Versions/3.7/lib/python3.7/site-packages (from matplotlib->wordcloud) (1.3.1)\n",
      "Requirement already satisfied: cycler>=0.10 in /Library/Frameworks/Python.framework/Versions/3.7/lib/python3.7/site-packages (from matplotlib->wordcloud) (0.10.0)\n",
      "Requirement already satisfied: pyparsing>=2.2.1 in /Library/Frameworks/Python.framework/Versions/3.7/lib/python3.7/site-packages (from matplotlib->wordcloud) (2.4.7)\n",
      "Requirement already satisfied: six>=1.5 in /Library/Frameworks/Python.framework/Versions/3.7/lib/python3.7/site-packages (from python-dateutil>=2.7->matplotlib->wordcloud) (1.15.0)\n",
      "\u001B[33mWARNING: You are using pip version 20.1.1; however, version 21.0.1 is available.\n",
      "You should consider upgrading via the '/Library/Frameworks/Python.framework/Versions/3.7/bin/python3.7 -m pip install --upgrade pip' command.\u001B[0m\n"
     ]
    }
   ],
   "source": [
    "from nltk import word_tokenize\n",
    "!pip3 install wordcloud"
   ]
  },
  {
   "cell_type": "code",
   "execution_count": 6,
   "id": "collaborative-genre",
   "metadata": {
    "ExecuteTime": {
     "end_time": "2021-04-02T18:45:34.049091Z",
     "start_time": "2021-04-02T18:45:31.348094Z"
    }
   },
   "outputs": [
    {
     "ename": "ModuleNotFoundError",
     "evalue": "No module named 'wordcloud'",
     "output_type": "error",
     "traceback": [
      "\u001B[0;31m---------------------------------------------------------------------------\u001B[0m",
      "\u001B[0;31mModuleNotFoundError\u001B[0m                       Traceback (most recent call last)",
      "\u001B[0;32m<ipython-input-6-8c9735d54e40>\u001B[0m in \u001B[0;36m<module>\u001B[0;34m\u001B[0m\n\u001B[1;32m      3\u001B[0m \u001B[0;32mimport\u001B[0m \u001B[0mpickle\u001B[0m \u001B[0;32mas\u001B[0m \u001B[0mpk\u001B[0m\u001B[0;34m\u001B[0m\u001B[0;34m\u001B[0m\u001B[0m\n\u001B[1;32m      4\u001B[0m \u001B[0;32mimport\u001B[0m \u001B[0mpandas\u001B[0m \u001B[0;32mas\u001B[0m \u001B[0mpd\u001B[0m\u001B[0;34m\u001B[0m\u001B[0;34m\u001B[0m\u001B[0m\n\u001B[0;32m----> 5\u001B[0;31m \u001B[0;32mimport\u001B[0m \u001B[0mwordcloud\u001B[0m \u001B[0;32mas\u001B[0m \u001B[0mwc\u001B[0m\u001B[0;34m\u001B[0m\u001B[0;34m\u001B[0m\u001B[0m\n\u001B[0m\u001B[1;32m      6\u001B[0m \u001B[0;32mimport\u001B[0m \u001B[0mgensim\u001B[0m \u001B[0;32mas\u001B[0m \u001B[0mgs\u001B[0m\u001B[0;34m\u001B[0m\u001B[0;34m\u001B[0m\u001B[0m\n\u001B[1;32m      7\u001B[0m \u001B[0;32mimport\u001B[0m \u001B[0mgensim\u001B[0m\u001B[0;34m.\u001B[0m\u001B[0mcorpora\u001B[0m \u001B[0;32mas\u001B[0m \u001B[0mcp\u001B[0m\u001B[0;34m\u001B[0m\u001B[0;34m\u001B[0m\u001B[0m\n",
      "\u001B[0;31mModuleNotFoundError\u001B[0m: No module named 'wordcloud'"
     ]
    }
   ],
   "source": [
    "import warnings\n",
    "warnings.filterwarnings(\"ignore\")\n",
    "import pickle as pk\n",
    "import pandas as pd\n",
    "import wordcloud as wc\n",
    "import gensim as gs\n",
    "import gensim.corpora as cp\n",
    "import pyLDAvis\n",
    "from pyLDAvis import gensim_models\n",
    "import numpy as np\n",
    "import matplotlib.pyplot as plt"
   ]
  },
  {
   "cell_type": "code",
   "execution_count": null,
   "id": "unlimited-snowboard",
   "metadata": {
    "ExecuteTime": {
     "end_time": "2021-04-02T18:45:34.065095Z",
     "start_time": "2021-04-02T18:45:34.050094Z"
    }
   },
   "outputs": [],
   "source": [
    "covid_date = np.datetime64('2020-04-01T01:00:00.000000+0100')\n",
    "n_topics = 10"
   ]
  },
  {
   "cell_type": "markdown",
   "id": "critical-effectiveness",
   "metadata": {},
   "source": [
    "# WordCloud"
   ]
  },
  {
   "cell_type": "code",
   "execution_count": null,
   "id": "lovely-plate",
   "metadata": {
    "ExecuteTime": {
     "end_time": "2021-04-02T18:45:34.081095Z",
     "start_time": "2021-04-02T18:45:34.068097Z"
    }
   },
   "outputs": [],
   "source": [
    "def word_cloud(df):\n",
    "    all_words = ''\n",
    "    for text in df['text']:\n",
    "        all_words += ','.join(list(text)) \n",
    "        \n",
    "    print('Total words {}'.format(len(all_words)))\n",
    "    \n",
    "    wordcloud = wc.WordCloud(background_color=\"white\", max_words=100000, contour_width=4, scale=3, contour_color='steelblue')\n",
    "    wordcloud.generate(all_words)\n",
    "    return wordcloud.to_image()"
   ]
  },
  {
   "cell_type": "markdown",
   "id": "fantastic-jerusalem",
   "metadata": {},
   "source": [
    "# LDA"
   ]
  },
  {
   "cell_type": "code",
   "execution_count": null,
   "id": "fluid-church",
   "metadata": {
    "ExecuteTime": {
     "end_time": "2021-04-02T18:45:34.097096Z",
     "start_time": "2021-04-02T18:45:34.083097Z"
    }
   },
   "outputs": [],
   "source": [
    "def lda(df, n_topics=5):\n",
    "    all_words = []\n",
    "    for text in df['text']:\n",
    "        all_words.append(text)\n",
    "    \n",
    "    # Create dictionary and corpus\n",
    "    word2num = cp.Dictionary(all_words)\n",
    "    texts = all_words\n",
    "    \n",
    "    # Get term frequency\n",
    "    corpus = [word2num.doc2bow(text) for text in texts]\n",
    "    \n",
    "    lda_model = gs.models.LdaMulticore(corpus=corpus, id2word=word2num, num_topics=n_topics)\n",
    "    doc_lda = lda_model[corpus]\n",
    "    \n",
    "    print('\\nTopics')\n",
    "    print(lda_model.print_topics())\n",
    "    \n",
    "    print('\\nScores')\n",
    "    for i in range(0, len(corpus), 500):\n",
    "        for index, score in sorted(lda_model[corpus[i]], key=lambda tup: -1*tup[1]):\n",
    "            print(\"\\nScore: {}\\t \\nTopic: {}\".format(score, lda_model.print_topic(index, 10)))\n",
    "    \n",
    "    pyLDAvis.enable_notebook()\n",
    "    return pyLDAvis.gensim.prepare(lda_model, corpus, word2num)\n",
    "\n",
    "def lda_base(df, n_topics=5):\n",
    "    all_words = []\n",
    "    for text in df['text']:\n",
    "        all_words.append(text)\n",
    "    \n",
    "    # Create dictionary and corpus\n",
    "    word2num = cp.Dictionary(all_words)\n",
    "    texts = all_words\n",
    "    \n",
    "    # Get term frequency\n",
    "    corpus = [word2num.doc2bow(text) for text in texts]\n",
    "    \n",
    "    lda_model = gs.models.LdaMulticore(corpus=corpus, id2word=word2num, num_topics=n_topics)\n",
    "    doc_lda = lda_model[corpus]\n",
    "    \n",
    "    print('\\nTopics')\n",
    "    print(lda_model.print_topics())\n",
    "    \n",
    "    print('\\nScores')\n",
    "    for i in range(0, len(corpus), 500):\n",
    "        for index, score in sorted(lda_model[corpus[i]], key=lambda tup: -1*tup[1]):\n",
    "            print(\"\\nScore: {}\\t \\nTopic: {}\".format(score, lda_model.print_topic(index, 10)))\n",
    "    \n",
    "    pyLDAvis.enable_notebook()\n",
    "    return (lda_model, corpus, word2num)"
   ]
  },
  {
   "cell_type": "markdown",
   "id": "scientific-environment",
   "metadata": {},
   "source": [
    "# All"
   ]
  },
  {
   "cell_type": "code",
   "execution_count": null,
   "id": "heard-semester",
   "metadata": {
    "ExecuteTime": {
     "end_time": "2021-04-02T18:45:34.491145Z",
     "start_time": "2021-04-02T18:45:34.098095Z"
    }
   },
   "outputs": [],
   "source": [
    "# Need to first get cleaned tokenized text data\n",
    "uber_df_tk = pd.read_pickle(r'./data/uber_tk.p')"
   ]
  },
  {
   "cell_type": "code",
   "execution_count": null,
   "id": "purple-creativity",
   "metadata": {},
   "outputs": [],
   "source": [
    "users=set(list(uber_df_tk['source'])+list(uber_df_tk['target']))\n",
    "users = [user.lower() for user in users]"
   ]
  },
  {
   "cell_type": "code",
   "execution_count": null,
   "id": "medical-mainland",
   "metadata": {},
   "outputs": [],
   "source": [
    "# from nltk.tokenize import sent_tokenize, word_tokenize\n",
    "# from nltk.corpus import stopwords\n",
    "# from nltk.stem import WordNetLemmatizer\n",
    "\n",
    "# word_lemmatizer = WordNetLemmatizer()\n",
    "\n",
    "#Get rid of handles\n",
    "for i in uber_df_tk.index:\n",
    "    source=uber_df_tk['source'][i].lower().replace(\"_\",\"\")\n",
    "    target=uber_df_tk['target'][i].lower().replace(\"_\",\"\")\n",
    "    text=uber_df_tk['text'][i]\n",
    "    word_tokenize(str(text).lower().replace(\"'\",\"\"))\n",
    "    while(source in text):\n",
    "        index=text.index(source)\n",
    "        del text[index]\n",
    "    while(target in text):\n",
    "        index=text.index(target)\n",
    "        del text[index] \n",
    "    while(\"uber\" in text):\n",
    "        index=text.index(\"uber\")\n",
    "        del text[index] \n",
    "    while(\"httpubersupport\" in text):\n",
    "        index=text.index(\"httpubersupport\")\n",
    "        del text[index] \n",
    "    while(\"ubersupport\" in text):\n",
    "        index=text.index(\"ubersupport\")\n",
    "        del text[index] \n",
    "    uber_df_tk['text'][i]=text"
   ]
  },
  {
   "cell_type": "code",
   "execution_count": null,
   "id": "considerable-chemistry",
   "metadata": {},
   "outputs": [],
   "source": [
    "import pickle\n",
    "pickle.dump(uber_df_tk,open('./data/uber_tk.p','wb'))"
   ]
  },
  {
   "cell_type": "code",
   "execution_count": null,
   "id": "german-minute",
   "metadata": {
    "ExecuteTime": {
     "end_time": "2021-04-02T18:45:35.528275Z",
     "start_time": "2021-04-02T18:45:34.493143Z"
    }
   },
   "outputs": [],
   "source": [
    "\n",
    "wcloud = word_cloud(uber_df_tk)"
   ]
  },
  {
   "cell_type": "code",
   "execution_count": null,
   "id": "southwest-inventory",
   "metadata": {
    "ExecuteTime": {
     "end_time": "2021-04-02T18:45:35.624277Z",
     "start_time": "2021-04-02T18:45:35.532277Z"
    }
   },
   "outputs": [],
   "source": [
    "wcloud"
   ]
  },
  {
   "cell_type": "code",
   "execution_count": null,
   "id": "conditional-links",
   "metadata": {},
   "outputs": [],
   "source": [
    "agg=pd.read_csv(\"./data/all_aggregated_uber_results_2.csv\")"
   ]
  },
  {
   "cell_type": "code",
   "execution_count": null,
   "id": "proprietary-representation",
   "metadata": {},
   "outputs": [],
   "source": [
    "alltopics=pd.DataFrame()\n",
    "no_topics=10\n",
    "print(corpus)\n",
    "for corp in corpus:\n",
    "    topic_stuff=pd.DataFrame(lda_model[corp])\n",
    "    topic=topic_stuff.T.iloc[1]\n",
    "    topic.index=topic_stuff.T.iloc[0]\n",
    "\n",
    "    actual_topic=topic_stuff.sort_values(by=1).tail(1)\n",
    "    actual_topic=actual_topic[0][actual_topic.index[0]]\n",
    "    topic=pd.DataFrame(topic.T).T.reset_index(drop=True)\n",
    "    topic['Topic']=actual_topic\n",
    "    # topic=topic_stuff.T.iloc[1].append(pd.Series(actual_topic)).reset_index(drop=True)\n",
    "    alltopics=alltopics.append(topic,ignore_index=True)"
   ]
  },
  {
   "cell_type": "code",
   "execution_count": null,
   "id": "neither-generic",
   "metadata": {},
   "outputs": [],
   "source": [
    "alltopics=alltopics.fillna(0)"
   ]
  },
  {
   "cell_type": "code",
   "execution_count": null,
   "id": "architectural-express",
   "metadata": {},
   "outputs": [],
   "source": [
    "from nltk.sentiment.vader import SentimentIntensityAnalyzer\n",
    "SIA = SentimentIntensityAnalyzer()\n",
    "sentiments=[]\n",
    "for topic in alltopics.index:\n",
    "    negativity = SIA.polarity_scores(\" \".join(uber_df_tk['text'][topic]))['neg']\n",
    "    sentiments.append(negativity)"
   ]
  },
  {
   "cell_type": "code",
   "execution_count": null,
   "id": "dedicated-height",
   "metadata": {},
   "outputs": [],
   "source": [
    "uber_df_tk['sentiments']=sentiments"
   ]
  },
  {
   "cell_type": "code",
   "execution_count": null,
   "id": "preceding-carter",
   "metadata": {},
   "outputs": [],
   "source": [
    "convos=[]\n",
    "for index in uber_df_tk.index:\n",
    "    convo=\" \".join(sorted([uber_df_tk['source'][index],uber_df_tk['target'][index]]))\n",
    "    convos.append(convo)"
   ]
  },
  {
   "cell_type": "code",
   "execution_count": null,
   "id": "ceramic-capture",
   "metadata": {},
   "outputs": [],
   "source": [
    "uber_df_tk['Convo']=convos"
   ]
  },
  {
   "cell_type": "code",
   "execution_count": null,
   "id": "subtle-oxford",
   "metadata": {},
   "outputs": [],
   "source": [
    "unique_convos=set(convos)"
   ]
  },
  {
   "cell_type": "code",
   "execution_count": null,
   "id": "reasonable-latino",
   "metadata": {},
   "outputs": [],
   "source": [
    "# all_sentdifferences=[]\n",
    "all_sents=[]\n",
    "for convo in unique_convos:\n",
    "    involved=uber_df_tk[uber_df_tk['Convo']==convo].reset_index(drop=True)\n",
    "#     sent=0\n",
    "#     sentdifferences=[sent]\n",
    "    sents=[]\n",
    "    for i in involved.index:\n",
    "#         sentdiff = sent-involved['sentiments'][i]\n",
    "#         sent=involved['sentiments'][i]\n",
    "#         sentdifferences.append(sentdiff)\n",
    "        sents.append(involved['sentiments'][i])\n",
    "    all_sents.append(sents)\n",
    "#     all_sentdifferences.append(sentdifferences)"
   ]
  },
  {
   "cell_type": "code",
   "execution_count": null,
   "id": "controversial-farmer",
   "metadata": {},
   "outputs": [],
   "source": [
    "all_sents_df=pd.DataFrame(all_sents)"
   ]
  },
  {
   "cell_type": "code",
   "execution_count": null,
   "id": "interior-atlas",
   "metadata": {},
   "outputs": [],
   "source": [
    "convo_sents=pd.DataFrame(zip(unique_convos,all_sents))"
   ]
  },
  {
   "cell_type": "code",
   "execution_count": null,
   "id": "awful-specialist",
   "metadata": {},
   "outputs": [],
   "source": [
    "convo_sents[convo_sents[0].str.contains('StlGig')]"
   ]
  },
  {
   "cell_type": "code",
   "execution_count": null,
   "id": "mexican-trust",
   "metadata": {},
   "outputs": [],
   "source": [
    "means=all_sents_df.mean()\n",
    "plt.bar(means.index,means)"
   ]
  },
  {
   "cell_type": "code",
   "execution_count": null,
   "id": "brave-medline",
   "metadata": {},
   "outputs": [],
   "source": [
    "pd.concat([uber_df_tk[['source','target','type_of_content','created_at']],alltopics],axis=1).to_csv(\"formatted.csv\")"
   ]
  },
  {
   "cell_type": "code",
   "execution_count": null,
   "id": "acquired-cabin",
   "metadata": {
    "ExecuteTime": {
     "end_time": "2021-04-02T18:45:44.610231Z",
     "start_time": "2021-04-02T18:45:44.585232Z"
    }
   },
   "outputs": [],
   "source": [
    "pyLDAvis.save_html(LDAvis_prepared,'./html/all_lda_n{}.html'.format(n_topics))"
   ]
  },
  {
   "cell_type": "markdown",
   "id": "fifteen-alert",
   "metadata": {},
   "source": [
    "# To Uber"
   ]
  },
  {
   "cell_type": "code",
   "execution_count": null,
   "id": "advisory-alabama",
   "metadata": {
    "ExecuteTime": {
     "end_time": "2021-04-02T18:45:44.625232Z",
     "start_time": "2021-04-02T18:45:44.612233Z"
    }
   },
   "outputs": [],
   "source": [
    "to_uber_df_tk = uber_df_tk[uber_df_tk['target'] == 'Uber_Support']"
   ]
  },
  {
   "cell_type": "code",
   "execution_count": null,
   "id": "random-merit",
   "metadata": {
    "ExecuteTime": {
     "end_time": "2021-04-02T18:45:44.686805Z",
     "start_time": "2021-04-02T18:45:44.627232Z"
    }
   },
   "outputs": [],
   "source": [
    "to_uber_df_tk"
   ]
  },
  {
   "cell_type": "code",
   "execution_count": null,
   "id": "published-symphony",
   "metadata": {
    "ExecuteTime": {
     "end_time": "2021-04-02T18:45:45.926042Z",
     "start_time": "2021-04-02T18:45:44.700806Z"
    }
   },
   "outputs": [],
   "source": [
    "wcloud = word_cloud(to_uber_df_tk)"
   ]
  },
  {
   "cell_type": "code",
   "execution_count": null,
   "id": "charitable-coach",
   "metadata": {
    "ExecuteTime": {
     "end_time": "2021-04-02T18:45:46.003803Z",
     "start_time": "2021-04-02T18:45:45.928043Z"
    }
   },
   "outputs": [],
   "source": [
    "wcloud"
   ]
  },
  {
   "cell_type": "code",
   "execution_count": null,
   "id": "integrated-brush",
   "metadata": {
    "ExecuteTime": {
     "end_time": "2021-04-02T18:45:51.612181Z",
     "start_time": "2021-04-02T18:45:46.004804Z"
    }
   },
   "outputs": [],
   "source": [
    "LDAvis_prepared = lda(to_uber_df_tk, n_topics=n_topics)"
   ]
  },
  {
   "cell_type": "code",
   "execution_count": null,
   "id": "portable-invasion",
   "metadata": {
    "ExecuteTime": {
     "end_time": "2021-04-02T18:45:51.658182Z",
     "start_time": "2021-04-02T18:45:51.613183Z"
    }
   },
   "outputs": [],
   "source": [
    "LDAvis_prepared[3]"
   ]
  },
  {
   "cell_type": "code",
   "execution_count": null,
   "id": "decimal-weight",
   "metadata": {
    "ExecuteTime": {
     "end_time": "2021-04-02T18:45:51.674184Z",
     "start_time": "2021-04-02T18:45:51.660182Z"
    }
   },
   "outputs": [],
   "source": [
    "pyLDAvis.save_html(LDAvis_prepared,'./html/to_lda_n{}.html'.format(n_topics))"
   ]
  },
  {
   "cell_type": "markdown",
   "id": "coated-difficulty",
   "metadata": {},
   "source": [
    "# From Uber"
   ]
  },
  {
   "cell_type": "code",
   "execution_count": null,
   "id": "anonymous-proof",
   "metadata": {
    "ExecuteTime": {
     "end_time": "2021-04-02T18:45:51.690182Z",
     "start_time": "2021-04-02T18:45:51.676183Z"
    }
   },
   "outputs": [],
   "source": [
    "from_uber_df_tk = uber_df_tk[uber_df_tk['source'] == 'Uber_Support']"
   ]
  },
  {
   "cell_type": "code",
   "execution_count": null,
   "id": "copyrighted-recall",
   "metadata": {
    "ExecuteTime": {
     "end_time": "2021-04-02T18:45:51.753181Z",
     "start_time": "2021-04-02T18:45:51.692183Z"
    }
   },
   "outputs": [],
   "source": [
    "from_uber_df_tk"
   ]
  },
  {
   "cell_type": "code",
   "execution_count": null,
   "id": "entertaining-freedom",
   "metadata": {
    "ExecuteTime": {
     "end_time": "2021-04-02T18:45:52.661627Z",
     "start_time": "2021-04-02T18:45:51.754181Z"
    }
   },
   "outputs": [],
   "source": [
    "wcloud = word_cloud(from_uber_df_tk)"
   ]
  },
  {
   "cell_type": "code",
   "execution_count": null,
   "id": "ceramic-agent",
   "metadata": {
    "ExecuteTime": {
     "end_time": "2021-04-02T18:45:52.754592Z",
     "start_time": "2021-04-02T18:45:52.662627Z"
    }
   },
   "outputs": [],
   "source": [
    "wcloud"
   ]
  },
  {
   "cell_type": "code",
   "execution_count": null,
   "id": "middle-beijing",
   "metadata": {
    "ExecuteTime": {
     "end_time": "2021-04-02T18:45:56.948533Z",
     "start_time": "2021-04-02T18:45:52.757600Z"
    }
   },
   "outputs": [],
   "source": [
    "LDAvis_prepared = lda(from_uber_df_tk, n_topics=n_topics)"
   ]
  },
  {
   "cell_type": "code",
   "execution_count": null,
   "id": "incorporate-advice",
   "metadata": {
    "ExecuteTime": {
     "end_time": "2021-04-02T18:45:57.011536Z",
     "start_time": "2021-04-02T18:45:56.998535Z"
    }
   },
   "outputs": [],
   "source": [
    "pyLDAvis.save_html(LDAvis_prepared,'./html/from_lda_n{}.html'.format(n_topics))"
   ]
  },
  {
   "cell_type": "markdown",
   "id": "frequent-seating",
   "metadata": {},
   "source": [
    "# To Uber Pre-COVID"
   ]
  },
  {
   "cell_type": "code",
   "execution_count": null,
   "id": "smoking-bridge",
   "metadata": {
    "ExecuteTime": {
     "end_time": "2021-04-02T18:45:57.026537Z",
     "start_time": "2021-04-02T18:45:57.013535Z"
    }
   },
   "outputs": [],
   "source": [
    "pre_to_uber_df_tk = uber_df_tk[(uber_df_tk['target'] == 'Uber_Support') & (uber_df_tk['created_at'] <= covid_date)]"
   ]
  },
  {
   "cell_type": "code",
   "execution_count": null,
   "id": "metallic-calculator",
   "metadata": {
    "ExecuteTime": {
     "end_time": "2021-04-02T18:45:57.088983Z",
     "start_time": "2021-04-02T18:45:57.027534Z"
    }
   },
   "outputs": [],
   "source": [
    "pre_to_uber_df_tk"
   ]
  },
  {
   "cell_type": "code",
   "execution_count": null,
   "id": "minimal-blank",
   "metadata": {
    "ExecuteTime": {
     "end_time": "2021-04-02T18:45:57.979947Z",
     "start_time": "2021-04-02T18:45:57.094979Z"
    }
   },
   "outputs": [],
   "source": [
    "wcloud = word_cloud(pre_to_uber_df_tk)"
   ]
  },
  {
   "cell_type": "code",
   "execution_count": null,
   "id": "junior-probability",
   "metadata": {
    "ExecuteTime": {
     "end_time": "2021-04-02T18:45:58.071951Z",
     "start_time": "2021-04-02T18:45:57.985951Z"
    }
   },
   "outputs": [],
   "source": [
    "wcloud"
   ]
  },
  {
   "cell_type": "code",
   "execution_count": null,
   "id": "caroline-submission",
   "metadata": {
    "ExecuteTime": {
     "end_time": "2021-04-02T18:46:01.760043Z",
     "start_time": "2021-04-02T18:45:58.073948Z"
    }
   },
   "outputs": [],
   "source": [
    "LDAvis_prepared = lda(pre_to_uber_df_tk, n_topics=n_topics)"
   ]
  },
  {
   "cell_type": "code",
   "execution_count": null,
   "id": "dressed-treasurer",
   "metadata": {
    "ExecuteTime": {
     "end_time": "2021-04-02T18:46:01.807876Z",
     "start_time": "2021-04-02T18:46:01.761948Z"
    }
   },
   "outputs": [],
   "source": [
    "LDAvis_prepared"
   ]
  },
  {
   "cell_type": "code",
   "execution_count": null,
   "id": "bronze-spiritual",
   "metadata": {
    "ExecuteTime": {
     "end_time": "2021-04-02T18:46:01.839876Z",
     "start_time": "2021-04-02T18:46:01.808877Z"
    }
   },
   "outputs": [],
   "source": [
    "pyLDAvis.save_html(LDAvis_prepared,'./html/pre_to_lda_n{}.html'.format(n_topics))"
   ]
  },
  {
   "cell_type": "markdown",
   "id": "buried-neighbor",
   "metadata": {},
   "source": [
    "# To Uber Post-COVID"
   ]
  },
  {
   "cell_type": "code",
   "execution_count": null,
   "id": "touched-baseball",
   "metadata": {
    "ExecuteTime": {
     "end_time": "2021-04-02T18:46:01.855877Z",
     "start_time": "2021-04-02T18:46:01.840876Z"
    }
   },
   "outputs": [],
   "source": [
    "post_to_uber_df_tk = uber_df_tk[(uber_df_tk['target'] == 'Uber_Support') & (uber_df_tk['created_at'] > covid_date)]"
   ]
  },
  {
   "cell_type": "code",
   "execution_count": null,
   "id": "qualified-gauge",
   "metadata": {
    "ExecuteTime": {
     "end_time": "2021-04-02T18:46:01.919876Z",
     "start_time": "2021-04-02T18:46:01.857877Z"
    }
   },
   "outputs": [],
   "source": [
    "post_to_uber_df_tk"
   ]
  },
  {
   "cell_type": "code",
   "execution_count": null,
   "id": "proprietary-riverside",
   "metadata": {
    "ExecuteTime": {
     "end_time": "2021-04-02T18:46:02.640608Z",
     "start_time": "2021-04-02T18:46:01.920876Z"
    }
   },
   "outputs": [],
   "source": [
    "wcloud = word_cloud(from_uber_df_tk)"
   ]
  },
  {
   "cell_type": "code",
   "execution_count": null,
   "id": "attended-depth",
   "metadata": {
    "ExecuteTime": {
     "end_time": "2021-04-02T18:46:02.703609Z",
     "start_time": "2021-04-02T18:46:02.641610Z"
    }
   },
   "outputs": [],
   "source": [
    "wcloud"
   ]
  },
  {
   "cell_type": "code",
   "execution_count": null,
   "id": "colonial-buddy",
   "metadata": {
    "ExecuteTime": {
     "end_time": "2021-04-02T18:46:07.599149Z",
     "start_time": "2021-04-02T18:46:02.704611Z"
    }
   },
   "outputs": [],
   "source": [
    "LDAvis_prepared = lda(post_to_uber_df_tk, n_topics=n_topics)"
   ]
  },
  {
   "cell_type": "code",
   "execution_count": null,
   "id": "numerous-patient",
   "metadata": {
    "ExecuteTime": {
     "end_time": "2021-04-02T18:46:07.645939Z",
     "start_time": "2021-04-02T18:46:07.600930Z"
    }
   },
   "outputs": [],
   "source": [
    "LDAvis_prepared"
   ]
  },
  {
   "cell_type": "code",
   "execution_count": null,
   "id": "sublime-register",
   "metadata": {
    "ExecuteTime": {
     "end_time": "2021-04-02T18:46:07.661938Z",
     "start_time": "2021-04-02T18:46:07.649939Z"
    }
   },
   "outputs": [],
   "source": [
    "pyLDAvis.save_html(LDAvis_prepared,'./html/post_to_lda_n{}.html'.format(n_topics))"
   ]
  },
  {
   "cell_type": "markdown",
   "id": "polish-encyclopedia",
   "metadata": {},
   "source": [
    "# From Uber Pre-COVID"
   ]
  },
  {
   "cell_type": "code",
   "execution_count": null,
   "id": "exclusive-auction",
   "metadata": {
    "ExecuteTime": {
     "end_time": "2021-04-02T18:46:07.677939Z",
     "start_time": "2021-04-02T18:46:07.663939Z"
    }
   },
   "outputs": [],
   "source": [
    "pre_from_uber_df_tk = uber_df_tk[(uber_df_tk['source'] == 'Uber_Support') & (uber_df_tk['created_at'] <= covid_date)]"
   ]
  },
  {
   "cell_type": "code",
   "execution_count": null,
   "id": "unsigned-racing",
   "metadata": {
    "ExecuteTime": {
     "end_time": "2021-04-02T18:46:07.801938Z",
     "start_time": "2021-04-02T18:46:07.681937Z"
    }
   },
   "outputs": [],
   "source": [
    "pre_from_uber_df_tk"
   ]
  },
  {
   "cell_type": "code",
   "execution_count": null,
   "id": "conceptual-armenia",
   "metadata": {
    "ExecuteTime": {
     "end_time": "2021-04-02T18:46:08.555067Z",
     "start_time": "2021-04-02T18:46:07.805937Z"
    }
   },
   "outputs": [],
   "source": [
    "wcloud = word_cloud(pre_from_uber_df_tk)"
   ]
  },
  {
   "cell_type": "code",
   "execution_count": null,
   "id": "retained-albania",
   "metadata": {
    "ExecuteTime": {
     "end_time": "2021-04-02T18:46:08.632929Z",
     "start_time": "2021-04-02T18:46:08.557600Z"
    }
   },
   "outputs": [],
   "source": [
    "wcloud"
   ]
  },
  {
   "cell_type": "code",
   "execution_count": null,
   "id": "advisory-judgment",
   "metadata": {
    "ExecuteTime": {
     "end_time": "2021-04-02T18:46:11.583491Z",
     "start_time": "2021-04-02T18:46:08.634930Z"
    }
   },
   "outputs": [],
   "source": [
    "LDAvis_prepared = lda(pre_from_uber_df_tk, n_topics=n_topics)"
   ]
  },
  {
   "cell_type": "code",
   "execution_count": null,
   "id": "renewable-surface",
   "metadata": {
    "ExecuteTime": {
     "end_time": "2021-04-02T18:46:11.615492Z",
     "start_time": "2021-04-02T18:46:11.585491Z"
    }
   },
   "outputs": [],
   "source": [
    "LDAvis_prepared"
   ]
  },
  {
   "cell_type": "code",
   "execution_count": null,
   "id": "robust-result",
   "metadata": {
    "ExecuteTime": {
     "end_time": "2021-04-02T18:46:11.631491Z",
     "start_time": "2021-04-02T18:46:11.617494Z"
    }
   },
   "outputs": [],
   "source": [
    "pyLDAvis.save_html(LDAvis_prepared,'./html/pre_from_lda_n{}.html'.format(n_topics))"
   ]
  },
  {
   "cell_type": "markdown",
   "id": "better-fashion",
   "metadata": {},
   "source": [
    "# From Uber Post-COVID"
   ]
  },
  {
   "cell_type": "code",
   "execution_count": null,
   "id": "rough-genetics",
   "metadata": {
    "ExecuteTime": {
     "end_time": "2021-04-02T18:46:11.647491Z",
     "start_time": "2021-04-02T18:46:11.633493Z"
    }
   },
   "outputs": [],
   "source": [
    "post_from_uber_df_tk = uber_df_tk[(uber_df_tk['source'] == 'Uber_Support') & (uber_df_tk['created_at'] > covid_date)]"
   ]
  },
  {
   "cell_type": "code",
   "execution_count": null,
   "id": "prescription-welsh",
   "metadata": {
    "ExecuteTime": {
     "end_time": "2021-04-02T18:46:11.693491Z",
     "start_time": "2021-04-02T18:46:11.649494Z"
    }
   },
   "outputs": [],
   "source": [
    "post_from_uber_df_tk"
   ]
  },
  {
   "cell_type": "code",
   "execution_count": null,
   "id": "friendly-optimization",
   "metadata": {
    "ExecuteTime": {
     "end_time": "2021-04-02T18:46:12.320412Z",
     "start_time": "2021-04-02T18:46:11.695495Z"
    }
   },
   "outputs": [],
   "source": [
    "wcloud = word_cloud(post_from_uber_df_tk)"
   ]
  },
  {
   "cell_type": "code",
   "execution_count": null,
   "id": "supposed-retail",
   "metadata": {
    "ExecuteTime": {
     "end_time": "2021-04-02T18:46:12.382415Z",
     "start_time": "2021-04-02T18:46:12.322417Z"
    }
   },
   "outputs": [],
   "source": [
    "wcloud"
   ]
  },
  {
   "cell_type": "code",
   "execution_count": null,
   "id": "living-example",
   "metadata": {
    "ExecuteTime": {
     "end_time": "2021-04-02T18:46:16.389166Z",
     "start_time": "2021-04-02T18:46:12.384419Z"
    }
   },
   "outputs": [],
   "source": [
    "LDAvis_prepared = lda(post_from_uber_df_tk, n_topics=n_topics)"
   ]
  },
  {
   "cell_type": "code",
   "execution_count": null,
   "id": "continuing-presentation",
   "metadata": {
    "ExecuteTime": {
     "end_time": "2021-04-02T18:46:16.421160Z",
     "start_time": "2021-04-02T18:46:16.390151Z"
    }
   },
   "outputs": [],
   "source": [
    "LDAvis_prepared"
   ]
  },
  {
   "cell_type": "code",
   "execution_count": null,
   "id": "banned-battlefield",
   "metadata": {
    "ExecuteTime": {
     "end_time": "2021-04-02T18:46:16.436424Z",
     "start_time": "2021-04-02T18:46:16.422137Z"
    }
   },
   "outputs": [],
   "source": [
    "pyLDAvis.save_html(LDAvis_prepared,'./html/post_from_lda_n{}.html'.format(n_topics))"
   ]
  },
  {
   "cell_type": "markdown",
   "id": "improved-representative",
   "metadata": {},
   "source": [
    "# Pre-COVID"
   ]
  },
  {
   "cell_type": "code",
   "execution_count": null,
   "id": "placed-chicken",
   "metadata": {
    "ExecuteTime": {
     "end_time": "2021-04-02T18:46:16.451615Z",
     "start_time": "2021-04-02T18:46:16.438314Z"
    }
   },
   "outputs": [],
   "source": [
    "pre_uber_df_tk = uber_df_tk[uber_df_tk['created_at'] <= covid_date]"
   ]
  },
  {
   "cell_type": "code",
   "execution_count": null,
   "id": "presidential-jackson",
   "metadata": {
    "ExecuteTime": {
     "end_time": "2021-04-02T18:46:16.498285Z",
     "start_time": "2021-04-02T18:46:16.453491Z"
    }
   },
   "outputs": [],
   "source": [
    "pre_uber_df_tk"
   ]
  },
  {
   "cell_type": "code",
   "execution_count": null,
   "id": "scheduled-unemployment",
   "metadata": {
    "ExecuteTime": {
     "end_time": "2021-04-02T18:46:17.276018Z",
     "start_time": "2021-04-02T18:46:16.499283Z"
    }
   },
   "outputs": [],
   "source": [
    "wcloud = word_cloud(pre_uber_df_tk)"
   ]
  },
  {
   "cell_type": "code",
   "execution_count": null,
   "id": "conscious-entrance",
   "metadata": {
    "ExecuteTime": {
     "end_time": "2021-04-02T18:46:17.339018Z",
     "start_time": "2021-04-02T18:46:17.277018Z"
    }
   },
   "outputs": [],
   "source": [
    "wcloud"
   ]
  },
  {
   "cell_type": "code",
   "execution_count": null,
   "id": "turkish-suspect",
   "metadata": {
    "ExecuteTime": {
     "end_time": "2021-04-02T18:46:21.202877Z",
     "start_time": "2021-04-02T18:46:17.340019Z"
    }
   },
   "outputs": [],
   "source": [
    "LDAvis_prepared = lda(pre_uber_df_tk, n_topics=n_topics)"
   ]
  },
  {
   "cell_type": "code",
   "execution_count": null,
   "id": "hidden-strategy",
   "metadata": {
    "ExecuteTime": {
     "end_time": "2021-04-02T18:46:21.264873Z",
     "start_time": "2021-04-02T18:46:21.204876Z"
    }
   },
   "outputs": [],
   "source": [
    "LDAvis_prepared"
   ]
  },
  {
   "cell_type": "code",
   "execution_count": null,
   "id": "racial-orlando",
   "metadata": {
    "ExecuteTime": {
     "end_time": "2021-04-02T18:46:21.295876Z",
     "start_time": "2021-04-02T18:46:21.266876Z"
    }
   },
   "outputs": [],
   "source": [
    "pyLDAvis.save_html(LDAvis_prepared,'./html/pre_lda_n{}.html'.format(n_topics))"
   ]
  },
  {
   "cell_type": "markdown",
   "id": "intelligent-bargain",
   "metadata": {},
   "source": [
    "# Post-COVID"
   ]
  },
  {
   "cell_type": "code",
   "execution_count": null,
   "id": "temporal-casino",
   "metadata": {
    "ExecuteTime": {
     "end_time": "2021-04-02T18:46:21.310877Z",
     "start_time": "2021-04-02T18:46:21.296876Z"
    }
   },
   "outputs": [],
   "source": [
    "post_uber_df_tk = uber_df_tk[uber_df_tk['created_at'] > covid_date]"
   ]
  },
  {
   "cell_type": "code",
   "execution_count": null,
   "id": "broad-fraud",
   "metadata": {
    "ExecuteTime": {
     "end_time": "2021-04-02T18:46:21.390684Z",
     "start_time": "2021-04-02T18:46:21.315878Z"
    }
   },
   "outputs": [],
   "source": [
    "post_uber_df_tk"
   ]
  },
  {
   "cell_type": "code",
   "execution_count": null,
   "id": "black-allocation",
   "metadata": {
    "ExecuteTime": {
     "end_time": "2021-04-02T18:46:23.081775Z",
     "start_time": "2021-04-02T18:46:21.392685Z"
    }
   },
   "outputs": [],
   "source": [
    "wcloud = word_cloud(post_uber_df_tk)"
   ]
  },
  {
   "cell_type": "code",
   "execution_count": null,
   "id": "controlled-circle",
   "metadata": {
    "ExecuteTime": {
     "end_time": "2021-04-02T18:46:23.160780Z",
     "start_time": "2021-04-02T18:46:23.083775Z"
    }
   },
   "outputs": [],
   "source": [
    "wcloud"
   ]
  },
  {
   "cell_type": "code",
   "execution_count": null,
   "id": "obvious-funeral",
   "metadata": {
    "ExecuteTime": {
     "end_time": "2021-04-02T18:46:30.619934Z",
     "start_time": "2021-04-02T18:46:23.162782Z"
    }
   },
   "outputs": [],
   "source": [
    "LDAvis_prepared = lda(post_uber_df_tk, n_topics=n_topics)"
   ]
  },
  {
   "cell_type": "code",
   "execution_count": null,
   "id": "reflected-tiffany",
   "metadata": {
    "ExecuteTime": {
     "end_time": "2021-04-02T18:46:30.651449Z",
     "start_time": "2021-04-02T18:46:30.621447Z"
    }
   },
   "outputs": [],
   "source": [
    "LDAvis_prepared"
   ]
  },
  {
   "cell_type": "code",
   "execution_count": null,
   "id": "general-completion",
   "metadata": {
    "ExecuteTime": {
     "end_time": "2021-04-02T18:46:30.667449Z",
     "start_time": "2021-04-02T18:46:30.652448Z"
    }
   },
   "outputs": [],
   "source": [
    "pyLDAvis.save_html(LDAvis_prepared,'./html/post_lda_n{}.html'.format(n_topics))"
   ]
  }
 ],
 "metadata": {
  "hide_input": false,
  "kernelspec": {
   "display_name": "Python 3",
   "language": "python",
   "name": "python3"
  },
  "language_info": {
   "codemirror_mode": {
    "name": "ipython",
    "version": 3
   },
   "file_extension": ".py",
   "mimetype": "text/x-python",
   "name": "python",
   "nbconvert_exporter": "python",
   "pygments_lexer": "ipython3",
   "version": "3.7.7"
  },
  "toc": {
   "base_numbering": 1,
   "nav_menu": {},
   "number_sections": true,
   "sideBar": true,
   "skip_h1_title": false,
   "title_cell": "Table of Contents",
   "title_sidebar": "Contents",
   "toc_cell": false,
   "toc_position": {},
   "toc_section_display": true,
   "toc_window_display": false
  },
  "varInspector": {
   "cols": {
    "lenName": 16,
    "lenType": 16,
    "lenVar": 40
   },
   "kernels_config": {
    "python": {
     "delete_cmd_postfix": "",
     "delete_cmd_prefix": "del ",
     "library": "var_list.py",
     "varRefreshCmd": "print(var_dic_list())"
    },
    "r": {
     "delete_cmd_postfix": ") ",
     "delete_cmd_prefix": "rm(",
     "library": "var_list.r",
     "varRefreshCmd": "cat(var_dic_list()) "
    }
   },
   "types_to_exclude": [
    "module",
    "function",
    "builtin_function_or_method",
    "instance",
    "_Feature"
   ],
   "window_display": false
  }
 },
 "nbformat": 4,
 "nbformat_minor": 5
}